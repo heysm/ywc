{
  "nbformat": 4,
  "nbformat_minor": 0,
  "metadata": {
    "colab": {
      "name": "WeSAD_transformer.ipynb",
      "provenance": [],
      "collapsed_sections": [],
      "include_colab_link": true
    },
    "kernelspec": {
      "name": "python3",
      "display_name": "Python 3"
    },
    "language_info": {
      "name": "python"
    },
    "accelerator": "GPU"
  },
  "cells": [
    {
      "cell_type": "markdown",
      "metadata": {
        "id": "view-in-github",
        "colab_type": "text"
      },
      "source": [
        "<a href=\"https://colab.research.google.com/github/sa-y-an/ywc/blob/main/WeSAD_transformer.ipynb\" target=\"_parent\"><img src=\"https://colab.research.google.com/assets/colab-badge.svg\" alt=\"Open In Colab\"/></a>"
      ]
    },
    {
      "cell_type": "code",
      "metadata": {
        "colab": {
          "base_uri": "https://localhost:8080/"
        },
        "id": "zJpFvCuQfaDh",
        "outputId": "e8fb1f49-cf2e-450f-d917-7a75e791e930"
      },
      "source": [
        "#download the cleaned data \n",
        "!gdown --id 1XJLa-kXOT_cBORvOgRf84c3WnEkLX-dH"
      ],
      "execution_count": 1,
      "outputs": [
        {
          "output_type": "stream",
          "name": "stdout",
          "text": [
            "Downloading...\n",
            "From: https://drive.google.com/uc?id=1XJLa-kXOT_cBORvOgRf84c3WnEkLX-dH\n",
            "To: /content/wdata.zip\n",
            "740MB [00:06, 121MB/s]\n"
          ]
        }
      ]
    },
    {
      "cell_type": "code",
      "metadata": {
        "id": "y00Eo26Zfg-I"
      },
      "source": [
        "!unzip -q wdata.zip"
      ],
      "execution_count": 2,
      "outputs": []
    },
    {
      "cell_type": "code",
      "metadata": {
        "id": "Piz4yNRofoB8"
      },
      "source": [
        "source = '/content/wdata'"
      ],
      "execution_count": 3,
      "outputs": []
    },
    {
      "cell_type": "code",
      "metadata": {
        "id": "g8YnfYMAfc2v"
      },
      "source": [
        "import pandas as pd"
      ],
      "execution_count": 4,
      "outputs": []
    },
    {
      "cell_type": "code",
      "metadata": {
        "id": "cHW3gdabXL0Q"
      },
      "source": [
        "from sklearn.preprocessing import MinMaxScaler"
      ],
      "execution_count": 5,
      "outputs": []
    },
    {
      "cell_type": "code",
      "metadata": {
        "id": "XeKnPr7DaImh"
      },
      "source": [
        "FEATURE_COLUMNS = ['ACCX', 'ACCY', 'ACCZ', 'ECG', 'EMG', 'EDA', 'Temp', 'Resp']"
      ],
      "execution_count": 6,
      "outputs": []
    },
    {
      "cell_type": "code",
      "metadata": {
        "id": "8xpOvBoOkhdg"
      },
      "source": [
        "def two_class(x:int) :\n",
        "    if x == 2 :\n",
        "        return 0\n",
        "        \n",
        "    return x"
      ],
      "execution_count": 7,
      "outputs": []
    },
    {
      "cell_type": "code",
      "metadata": {
        "colab": {
          "base_uri": "https://localhost:8080/"
        },
        "id": "AGfauph8P1h_",
        "outputId": "0cb0a446-6d0f-471e-ab69-dadfa7753e7a"
      },
      "source": [
        "from imblearn.over_sampling import SMOTE"
      ],
      "execution_count": 8,
      "outputs": [
        {
          "output_type": "stream",
          "name": "stderr",
          "text": [
            "/usr/local/lib/python3.7/dist-packages/sklearn/externals/six.py:31: FutureWarning: The module is deprecated in version 0.21 and will be removed in version 0.23 since we've dropped support for Python 2.7. Please rely on the official version of six (https://pypi.org/project/six/).\n",
            "  \"(https://pypi.org/project/six/).\", FutureWarning)\n",
            "/usr/local/lib/python3.7/dist-packages/sklearn/utils/deprecation.py:144: FutureWarning: The sklearn.neighbors.base module is  deprecated in version 0.22 and will be removed in version 0.24. The corresponding classes / functions should instead be imported from sklearn.neighbors. Anything that cannot be imported from sklearn.neighbors is now part of the private API.\n",
            "  warnings.warn(message, FutureWarning)\n"
          ]
        }
      ]
    },
    {
      "cell_type": "code",
      "metadata": {
        "id": "nL96gctmTAvX"
      },
      "source": [
        "def smoting_data(file_num : int ) :\n",
        "\n",
        "    modal_file = source + \"/Modalities/S{}_train.csv\".format(file_num)\n",
        "    # labels = pd.read_csv(label_file)\n",
        "    modals = pd.read_csv(modal_file)\n",
        "    modals.drop(['Unnamed: 0'], axis = 1, inplace= True)\n",
        "\n",
        "    modals.drop(['series_id'], axis = 1 , inplace = True)\n",
        "\n",
        "    labels = modals['label']\n",
        "\n",
        "    modals.drop(['label'] , axis= 1 , inplace = True )\n",
        "\n",
        "    modals = modals.to_numpy()\n",
        "    labels.to_numpy()\n",
        "\n",
        "    oversample = SMOTE(random_state = 42 )\n",
        "    modals, labels = oversample.fit_resample(modals, labels)\n",
        "    df = pd.DataFrame(modals , columns = FEATURE_COLUMNS )\n",
        "    df['label'] = labels\n",
        "\n",
        "    return df       "
      ],
      "execution_count": 9,
      "outputs": []
    },
    {
      "cell_type": "code",
      "metadata": {
        "id": "-ptSmxkhUQQR"
      },
      "source": [
        "def create_sequences(data) : \n",
        "\n",
        "    seq = np.array([], dtype='int')\n",
        "\n",
        "    for i in range(int(len(data)/700)) :\n",
        "        temp = np.ones(shape = 700,dtype='int')*i\n",
        "        seq = np.append(seq,temp)\n",
        "\n",
        "\n",
        "    data['series_id'] = seq\n",
        "\n",
        "    y_train = pd.DataFrame()\n",
        "    y_train['series_id'] = data['series_id']\n",
        "    y_train['label'] = data['label']\n",
        "\n",
        "\n",
        "\n",
        "    y_train = y_train.groupby(['series_id']).mean()\n",
        "    temp = range(int(len(data)/700))\n",
        "\n",
        "    y_train['series_id'] = temp\n",
        "\n",
        "    if (data.series_id.value_counts() == 700 ).sum() != len(y_train) :\n",
        "        return \"Values dont match\"\n",
        "\n",
        "\n",
        "    return data, y_train"
      ],
      "execution_count": 10,
      "outputs": []
    },
    {
      "cell_type": "code",
      "metadata": {
        "id": "EeDTjHySZhRS"
      },
      "source": [
        "def create_train_dataframe(file_num:int) :\n",
        "    '''Returns modals and labels for a particular file num'''\n",
        "\n",
        "    if file_num > 17 or file_num <2 :\n",
        "        return \"Give an entry between 2 and 17 \"\n",
        "\n",
        "    elif file_num == 12 :\n",
        "        return \"S12 is absent\"\n",
        "\n",
        "    df = smoting_data(file_num)\n",
        "    modals, labels = create_sequences(df)\n",
        "\n",
        "\n",
        "    series_id = modals[['series_id']]\n",
        "    modals.drop(['label'], axis = 1, inplace= True)\n",
        "    \n",
        "\n",
        "    # uncomment when using two class classification\n",
        "    # labels['label'] = labels['label'].apply(two_class)\n",
        "\n",
        "\n",
        "    x_shape = (modals.series_id.value_counts() == 700).sum()\n",
        "\n",
        "    if (modals.series_id.value_counts() == 700 ).sum() != len(labels) :\n",
        "        return \"Data sizes are incompatible, modal count = {} and label count = {}\".format(x_shape, len(labels) )\n",
        "\n",
        "    strn = \"Data sizes are - modal count = {} and label count = {}\".format(x_shape, len(labels) )\n",
        "    print(strn)\n",
        "    print(\" Modals and labels created ..\")\n",
        "\n",
        "\n",
        "    modals.drop(['series_id'], axis= 1, inplace = True)\n",
        "    columns = modals.columns\n",
        "\n",
        "    \n",
        "\n",
        "    # perform a robust scaler transform of the dataset\n",
        "    trans = MinMaxScaler()\n",
        "    modals = trans.fit_transform(modals)\n",
        "\n",
        "    modals = pd.DataFrame(modals,columns= columns)\n",
        "    modals['series_id'] = series_id\n",
        "\n",
        "\n",
        "    print(\"Data Normalized with MIn MAx scaler\")\n",
        "\n",
        "    return modals,labels"
      ],
      "execution_count": 11,
      "outputs": []
    },
    {
      "cell_type": "code",
      "metadata": {
        "id": "RH-dEZXJfwLJ"
      },
      "source": [
        "def create_test_dataframe(file_num:int) :\n",
        "    '''Returns modals and labels for a particular file num'''\n",
        "\n",
        "    if file_num > 17 or file_num <2 :\n",
        "        return \"Give an entry between 2 and 17 \"\n",
        "\n",
        "    elif file_num == 12 :\n",
        "        return \"S12 is absent\"\n",
        "\n",
        "    label_file = source + \"/Labels/S{}_label.csv\".format(file_num)\n",
        "    modal_file = source + \"/Modalities/S{}_train.csv\".format(file_num)\n",
        "    labels = pd.read_csv(label_file)\n",
        "    modals = pd.read_csv(modal_file)\n",
        "    modals.drop(['Unnamed: 0'], axis = 1, inplace= True)\n",
        "    print(modals.columns)\n",
        "    series_id = modals[['series_id']]\n",
        "    modals.drop(['label'], axis = 1, inplace= True)\n",
        "    labels.drop(['series_id.1'], axis = 1 ,  inplace = True)\n",
        "\n",
        "    # uncomment when using two class classification\n",
        "    # labels['label'] = labels['label'].apply(two_class)\n",
        "\n",
        "\n",
        "    x_shape = (modals.series_id.value_counts() == 700).sum()\n",
        "\n",
        "    if (modals.series_id.value_counts() == 700 ).sum() != len(labels) :\n",
        "        return \"Data sizes are incompatible, modal count = {} and label count = {}\".format(x_shape, len(labels) )\n",
        "\n",
        "    strn = \"Data sizes are - modal count = {} and label count = {}\".format(x_shape, len(labels) )\n",
        "    print(strn)\n",
        "    print(\" Modals and labels created ..\")\n",
        "\n",
        "\n",
        "    modals.drop(['series_id'], axis= 1, inplace = True)\n",
        "    columns = modals.columns\n",
        "\n",
        "    \n",
        "\n",
        "    # perform a robust scaler transform of the dataset\n",
        "    trans = MinMaxScaler()\n",
        "    modals = trans.fit_transform(modals)\n",
        "\n",
        "    modals = pd.DataFrame(modals,columns= columns)\n",
        "    modals['series_id'] = series_id\n",
        "\n",
        "\n",
        "    print(\"Data Normalized with MIn MAx scaler\")\n",
        "\n",
        "    return modals,labels"
      ],
      "execution_count": 12,
      "outputs": []
    },
    {
      "cell_type": "code",
      "metadata": {
        "id": "_KsyAVpQhtpK"
      },
      "source": [
        "FEATURE_COLUMNS = ['ACCX', 'ACCY', 'ACCZ', 'ECG', 'EMG', 'EDA', 'Temp', 'Resp']"
      ],
      "execution_count": 13,
      "outputs": []
    },
    {
      "cell_type": "code",
      "metadata": {
        "id": "wjfX0DrbwJu5"
      },
      "source": [
        "from sklearn.preprocessing import StandardScaler\n",
        "import numpy as np"
      ],
      "execution_count": 14,
      "outputs": []
    },
    {
      "cell_type": "code",
      "metadata": {
        "id": "QYgzoVE8oyC9"
      },
      "source": [
        "def create_standard_data(seq_data,y_train) :\n",
        "\n",
        "\n",
        "    # Features \n",
        "    FEATURE_COLUMNS = ['ACCX', 'ACCY', 'ACCZ', 'ECG', 'EMG', 'EDA', 'Temp', 'Resp']\n",
        "\n",
        "    print(\"Standardinging data\", end = \" \")\n",
        "\n",
        "    X = []\n",
        "    y = []\n",
        "    \n",
        "\n",
        "    for series_id, group in seq_data.groupby(\"series_id\") :\n",
        "        \n",
        "        scaler = StandardScaler()\n",
        "\n",
        "        sequence_features = group[FEATURE_COLUMNS]\n",
        "        label = y_train[y_train.series_id == series_id].iloc[0].label\n",
        "\n",
        "        x = sequence_features.to_numpy()\n",
        "        x = scaler.fit_transform(x)\n",
        "\n",
        "        X.append(x)\n",
        "        y.append(label)\n",
        "        \n",
        "        # sequences.append((sequence_features, label))\n",
        "\n",
        "        # print(\"Sequences Created \")\n",
        "    print()    \n",
        "    X = np.array(X)\n",
        "    y = np.array(y)\n",
        "\n",
        "    return X,y"
      ],
      "execution_count": 15,
      "outputs": []
    },
    {
      "cell_type": "code",
      "metadata": {
        "id": "cc7Df2YN1bAr"
      },
      "source": [
        "def get_train_data(file_num:int) :\n",
        "\n",
        "    print()\n",
        "    print(\"file num:{} \".format(file_num))\n",
        "    print()\n",
        "    \n",
        "    modals, labels = create_train_dataframe(file_num)\n",
        "\n",
        "    X,y = create_standard_data(modals,labels)\n",
        "\n",
        "    return X,y"
      ],
      "execution_count": 16,
      "outputs": []
    },
    {
      "cell_type": "code",
      "metadata": {
        "id": "FxPJsbzihVxi"
      },
      "source": [
        "def get_test_data(file_num:int) :\n",
        "\n",
        "    print()\n",
        "    print(\"file num:{} \".format(file_num))\n",
        "    print()\n",
        "    \n",
        "    modals, labels = create_test_dataframe(file_num)\n",
        "\n",
        "    X,y = create_standard_data(modals,labels)\n",
        "\n",
        "    return X,y"
      ],
      "execution_count": 17,
      "outputs": []
    },
    {
      "cell_type": "code",
      "metadata": {
        "id": "36VTFA2vG-VS"
      },
      "source": [
        "def create_train_data(train) :\n",
        "    \n",
        "    X_train, y_train = get_train_data(train[0])\n",
        "    # y_train = get_train_data(train[0])\n",
        "\n",
        "\n",
        "    for x in train[1:]:\n",
        "        tempx, tempy = get_train_data(x)\n",
        "        X_train = np.concatenate((X_train, tempx), axis = 0)\n",
        "        y_train = np.concatenate((y_train, tempy), axis = 0 )\n",
        "\n",
        "    print(\"Training Set Done !\")    \n",
        "\n",
        "\n",
        "    return X_train,y_train"
      ],
      "execution_count": 18,
      "outputs": []
    },
    {
      "cell_type": "code",
      "metadata": {
        "id": "Idtj96SShKfy"
      },
      "source": [
        "def create_test_data(test) :\n",
        "\n",
        "    X_test, y_test = get_test_data(test[0])\n",
        "\n",
        "\n",
        "    for x in test[1:]:\n",
        "        tempx, tempy = get_test_data(x)\n",
        "        X_test = np.concatenate([X_test, tempx])\n",
        "        y_test = np.concatenate([y_test, tempy])\n",
        "\n",
        "    print(\"Testing Loop Done !\")\n",
        "\n",
        "    return X_test, y_test"
      ],
      "execution_count": 19,
      "outputs": []
    },
    {
      "cell_type": "code",
      "metadata": {
        "id": "nbaYHOKwfyP-"
      },
      "source": [
        "train = [2,3,4,5,6,7,8,9,10,11,13,14]\n",
        "test = [15,16,17]"
      ],
      "execution_count": 20,
      "outputs": []
    },
    {
      "cell_type": "code",
      "metadata": {
        "colab": {
          "base_uri": "https://localhost:8080/"
        },
        "id": "Jfdg8mB4f2Hc",
        "outputId": "dfdd5c30-4333-48ab-e844-aa2e4fe3e0e1"
      },
      "source": [
        "X_train,y_train = create_test_data(train)"
      ],
      "execution_count": 21,
      "outputs": [
        {
          "output_type": "stream",
          "name": "stdout",
          "text": [
            "\n",
            "file num:2 \n",
            "\n",
            "Index(['ACCX', 'ACCY', 'ACCZ', 'ECG', 'EMG', 'EDA', 'Temp', 'Resp', 'label',\n",
            "       'series_id'],\n",
            "      dtype='object')\n",
            "Data sizes are - modal count = 2121 and label count = 2121\n",
            " Modals and labels created ..\n",
            "Data Normalized with MIn MAx scaler\n",
            "Standardinging data \n",
            "\n",
            "file num:3 \n",
            "\n",
            "Index(['ACCX', 'ACCY', 'ACCZ', 'ECG', 'EMG', 'EDA', 'Temp', 'Resp', 'label',\n",
            "       'series_id'],\n",
            "      dtype='object')\n",
            "Data sizes are - modal count = 2155 and label count = 2155\n",
            " Modals and labels created ..\n",
            "Data Normalized with MIn MAx scaler\n",
            "Standardinging data \n",
            "\n",
            "file num:4 \n",
            "\n",
            "Index(['ACCX', 'ACCY', 'ACCZ', 'ECG', 'EMG', 'EDA', 'Temp', 'Resp', 'label',\n",
            "       'series_id'],\n",
            "      dtype='object')\n",
            "Data sizes are - modal count = 2165 and label count = 2165\n",
            " Modals and labels created ..\n",
            "Data Normalized with MIn MAx scaler\n",
            "Standardinging data \n",
            "\n",
            "file num:5 \n",
            "\n",
            "Index(['ACCX', 'ACCY', 'ACCZ', 'ECG', 'EMG', 'EDA', 'Temp', 'Resp', 'label',\n",
            "       'series_id'],\n",
            "      dtype='object')\n",
            "Data sizes are - modal count = 2217 and label count = 2217\n",
            " Modals and labels created ..\n",
            "Data Normalized with MIn MAx scaler\n",
            "Standardinging data \n",
            "\n",
            "file num:6 \n",
            "\n",
            "Index(['ACCX', 'ACCY', 'ACCZ', 'ECG', 'EMG', 'EDA', 'Temp', 'Resp', 'label',\n",
            "       'series_id'],\n",
            "      dtype='object')\n",
            "Data sizes are - modal count = 2202 and label count = 2202\n",
            " Modals and labels created ..\n",
            "Data Normalized with MIn MAx scaler\n",
            "Standardinging data \n",
            "\n",
            "file num:7 \n",
            "\n",
            "Index(['ACCX', 'ACCY', 'ACCZ', 'ECG', 'EMG', 'EDA', 'Temp', 'Resp', 'label',\n",
            "       'series_id'],\n",
            "      dtype='object')\n",
            "Data sizes are - modal count = 2198 and label count = 2198\n",
            " Modals and labels created ..\n",
            "Data Normalized with MIn MAx scaler\n",
            "Standardinging data \n",
            "\n",
            "file num:8 \n",
            "\n",
            "Index(['ACCX', 'ACCY', 'ACCZ', 'ECG', 'EMG', 'EDA', 'Temp', 'Resp', 'label',\n",
            "       'series_id'],\n",
            "      dtype='object')\n",
            "Data sizes are - modal count = 2209 and label count = 2209\n",
            " Modals and labels created ..\n",
            "Data Normalized with MIn MAx scaler\n",
            "Standardinging data \n",
            "\n",
            "file num:9 \n",
            "\n",
            "Index(['ACCX', 'ACCY', 'ACCZ', 'ECG', 'EMG', 'EDA', 'Temp', 'Resp', 'label',\n",
            "       'series_id'],\n",
            "      dtype='object')\n",
            "Data sizes are - modal count = 2197 and label count = 2197\n",
            " Modals and labels created ..\n",
            "Data Normalized with MIn MAx scaler\n",
            "Standardinging data \n",
            "\n",
            "file num:10 \n",
            "\n",
            "Index(['ACCX', 'ACCY', 'ACCZ', 'ECG', 'EMG', 'EDA', 'Temp', 'Resp', 'label',\n",
            "       'series_id'],\n",
            "      dtype='object')\n",
            "Data sizes are - modal count = 2277 and label count = 2277\n",
            " Modals and labels created ..\n",
            "Data Normalized with MIn MAx scaler\n",
            "Standardinging data \n",
            "\n",
            "file num:11 \n",
            "\n",
            "Index(['ACCX', 'ACCY', 'ACCZ', 'ECG', 'EMG', 'EDA', 'Temp', 'Resp', 'label',\n",
            "       'series_id'],\n",
            "      dtype='object')\n",
            "Data sizes are - modal count = 2228 and label count = 2228\n",
            " Modals and labels created ..\n",
            "Data Normalized with MIn MAx scaler\n",
            "Standardinging data \n",
            "\n",
            "file num:13 \n",
            "\n",
            "Index(['ACCX', 'ACCY', 'ACCZ', 'ECG', 'EMG', 'EDA', 'Temp', 'Resp', 'label',\n",
            "       'series_id'],\n",
            "      dtype='object')\n",
            "Data sizes are - modal count = 2226 and label count = 2226\n",
            " Modals and labels created ..\n",
            "Data Normalized with MIn MAx scaler\n",
            "Standardinging data \n",
            "\n",
            "file num:14 \n",
            "\n",
            "Index(['ACCX', 'ACCY', 'ACCZ', 'ECG', 'EMG', 'EDA', 'Temp', 'Resp', 'label',\n",
            "       'series_id'],\n",
            "      dtype='object')\n",
            "Data sizes are - modal count = 2227 and label count = 2227\n",
            " Modals and labels created ..\n",
            "Data Normalized with MIn MAx scaler\n",
            "Standardinging data \n",
            "Testing Loop Done !\n"
          ]
        }
      ]
    },
    {
      "cell_type": "code",
      "metadata": {
        "colab": {
          "base_uri": "https://localhost:8080/"
        },
        "id": "_pJbcPASi2oo",
        "outputId": "5881bae1-d7b9-4aa0-c367-458357297029"
      },
      "source": [
        "X_train.shape, y_train.shape"
      ],
      "execution_count": 22,
      "outputs": [
        {
          "output_type": "execute_result",
          "data": {
            "text/plain": [
              "((26422, 700, 8), (26422,))"
            ]
          },
          "metadata": {},
          "execution_count": 22
        }
      ]
    },
    {
      "cell_type": "code",
      "metadata": {
        "colab": {
          "base_uri": "https://localhost:8080/"
        },
        "id": "jInqq8ZDins4",
        "outputId": "2c758f41-35db-41b6-cd87-bf230a2e88da"
      },
      "source": [
        "X_test,y_test = create_test_data(test)"
      ],
      "execution_count": 23,
      "outputs": [
        {
          "output_type": "stream",
          "name": "stdout",
          "text": [
            "\n",
            "file num:15 \n",
            "\n",
            "Index(['ACCX', 'ACCY', 'ACCZ', 'ECG', 'EMG', 'EDA', 'Temp', 'Resp', 'label',\n",
            "       'series_id'],\n",
            "      dtype='object')\n",
            "Data sizes are - modal count = 2233 and label count = 2233\n",
            " Modals and labels created ..\n",
            "Data Normalized with MIn MAx scaler\n",
            "Standardinging data \n",
            "\n",
            "file num:16 \n",
            "\n",
            "Index(['ACCX', 'ACCY', 'ACCZ', 'ECG', 'EMG', 'EDA', 'Temp', 'Resp', 'label',\n",
            "       'series_id'],\n",
            "      dtype='object')\n",
            "Data sizes are - modal count = 2221 and label count = 2221\n",
            " Modals and labels created ..\n",
            "Data Normalized with MIn MAx scaler\n",
            "Standardinging data \n",
            "\n",
            "file num:17 \n",
            "\n",
            "Index(['ACCX', 'ACCY', 'ACCZ', 'ECG', 'EMG', 'EDA', 'Temp', 'Resp', 'label',\n",
            "       'series_id'],\n",
            "      dtype='object')\n",
            "Data sizes are - modal count = 2276 and label count = 2276\n",
            " Modals and labels created ..\n",
            "Data Normalized with MIn MAx scaler\n",
            "Standardinging data \n",
            "Testing Loop Done !\n"
          ]
        }
      ]
    },
    {
      "cell_type": "code",
      "metadata": {
        "colab": {
          "base_uri": "https://localhost:8080/"
        },
        "id": "Q-Z6IzR_mdKl",
        "outputId": "a462d47e-4c0d-42ff-ba9c-49f22b70c8fe"
      },
      "source": [
        "X_test.shape, y_test.shape"
      ],
      "execution_count": 24,
      "outputs": [
        {
          "output_type": "execute_result",
          "data": {
            "text/plain": [
              "((6730, 700, 8), (6730,))"
            ]
          },
          "metadata": {},
          "execution_count": 24
        }
      ]
    },
    {
      "cell_type": "code",
      "metadata": {
        "colab": {
          "base_uri": "https://localhost:8080/"
        },
        "id": "hRgfHVPUwomK",
        "outputId": "3d68a418-43f7-46f9-9140-1c8c8b97c47e"
      },
      "source": [
        "num_classes = len(np.unique(y_train))\n",
        "num_classes"
      ],
      "execution_count": 25,
      "outputs": [
        {
          "output_type": "execute_result",
          "data": {
            "text/plain": [
              "3"
            ]
          },
          "metadata": {},
          "execution_count": 25
        }
      ]
    },
    {
      "cell_type": "code",
      "metadata": {
        "id": "58UYMWiO4S9W"
      },
      "source": [
        "n_classes = num_classes"
      ],
      "execution_count": 26,
      "outputs": []
    },
    {
      "cell_type": "code",
      "metadata": {
        "id": "sMWzzeN4w4Rz"
      },
      "source": [
        "idx = np.random.permutation(len(X_train))\n",
        "X_train = X_train[idx]\n",
        "y_train = y_train[idx]"
      ],
      "execution_count": 27,
      "outputs": []
    },
    {
      "cell_type": "code",
      "metadata": {
        "id": "Y9M88Q6XxJ7u"
      },
      "source": [
        "from tensorflow import keras\n",
        "from tensorflow.keras import layers"
      ],
      "execution_count": 28,
      "outputs": []
    },
    {
      "cell_type": "markdown",
      "metadata": {
        "id": "N4STFJii5rh-"
      },
      "source": [
        "\n",
        "\n",
        "### Transformer Model"
      ]
    },
    {
      "cell_type": "code",
      "metadata": {
        "id": "Y4mTEFl13ymU"
      },
      "source": [
        "def transformer_encoder(inputs, head_size, num_heads, ff_dim, dropout=0):\n",
        "    # Normalization and Attention\n",
        "    x = layers.LayerNormalization(epsilon=1e-6)(inputs)\n",
        "    x = layers.MultiHeadAttention(\n",
        "        key_dim=head_size, num_heads=num_heads, dropout=dropout\n",
        "    )(x, x)\n",
        "    x = layers.Dropout(dropout)(x)\n",
        "    res = x + inputs\n",
        "\n",
        "    # Feed Forward Part\n",
        "    x = layers.LayerNormalization(epsilon=1e-6)(res)\n",
        "    x = layers.Conv1D(filters=ff_dim, kernel_size=1, activation=\"relu\")(x)\n",
        "    x = layers.Dropout(dropout)(x)\n",
        "    x = layers.Conv1D(filters=inputs.shape[-1], kernel_size=1)(x)\n",
        "    return x + res"
      ],
      "execution_count": 29,
      "outputs": []
    },
    {
      "cell_type": "code",
      "metadata": {
        "id": "3nQc9bVH36Gs"
      },
      "source": [
        "def build_model(\n",
        "    input_shape,\n",
        "    head_size,\n",
        "    num_heads,\n",
        "    ff_dim,\n",
        "    num_transformer_blocks,\n",
        "    mlp_units,\n",
        "    dropout=0,\n",
        "    mlp_dropout=0,\n",
        "):\n",
        "    inputs = keras.Input(shape=input_shape)\n",
        "    x = inputs\n",
        "    for _ in range(num_transformer_blocks):\n",
        "        x = transformer_encoder(x, head_size, num_heads, ff_dim, dropout)\n",
        "\n",
        "    x = layers.GlobalAveragePooling1D(data_format=\"channels_first\")(x)\n",
        "    for dim in mlp_units:\n",
        "        x = layers.Dense(dim, activation=\"relu\")(x)\n",
        "        x = layers.Dropout(mlp_dropout)(x)\n",
        "    outputs = layers.Dense(n_classes, activation=\"softmax\")(x)\n",
        "    return keras.Model(inputs, outputs)\n"
      ],
      "execution_count": 30,
      "outputs": []
    },
    {
      "cell_type": "code",
      "metadata": {
        "id": "EEPOTf-g6OW6"
      },
      "source": [
        "from sklearn.model_selection import train_test_split"
      ],
      "execution_count": 31,
      "outputs": []
    },
    {
      "cell_type": "markdown",
      "metadata": {
        "id": "PNnGu7mb9Vyf"
      },
      "source": [
        "# fix this line "
      ]
    },
    {
      "cell_type": "code",
      "metadata": {
        "id": "oXigPbR-6IDx"
      },
      "source": [
        "X_train, _ , y_train, _  = train_test_split(X_train, y_train , test_size = 0.5 , random_state = 42)"
      ],
      "execution_count": 32,
      "outputs": []
    },
    {
      "cell_type": "code",
      "metadata": {
        "colab": {
          "base_uri": "https://localhost:8080/"
        },
        "id": "_e08w_9h6pNS",
        "outputId": "cb365446-9c25-4fe6-a685-684b8b5e487d"
      },
      "source": [
        "X_train.shape"
      ],
      "execution_count": 33,
      "outputs": [
        {
          "output_type": "execute_result",
          "data": {
            "text/plain": [
              "(13211, 700, 8)"
            ]
          },
          "metadata": {},
          "execution_count": 33
        }
      ]
    },
    {
      "cell_type": "code",
      "metadata": {
        "colab": {
          "base_uri": "https://localhost:8080/"
        },
        "id": "hWsb32Sg9NWu",
        "outputId": "c4d9c6b3-ed17-4666-cf8a-3e125df33ce2"
      },
      "source": [
        "y_train.shape"
      ],
      "execution_count": 34,
      "outputs": [
        {
          "output_type": "execute_result",
          "data": {
            "text/plain": [
              "(13211,)"
            ]
          },
          "metadata": {},
          "execution_count": 34
        }
      ]
    },
    {
      "cell_type": "markdown",
      "metadata": {
        "id": "fPGgJBol5v82"
      },
      "source": [
        "## Training Loop"
      ]
    },
    {
      "cell_type": "code",
      "metadata": {
        "colab": {
          "base_uri": "https://localhost:8080/"
        },
        "id": "ddMV8YWuxUlb",
        "outputId": "1d219df4-5f6c-4957-abd6-abc9e0f42f32"
      },
      "source": [
        "input_shape = X_train.shape[1:]\n",
        "\n",
        "model = build_model(\n",
        "    input_shape,\n",
        "    head_size=256,\n",
        "    num_heads=4,\n",
        "    ff_dim=4,\n",
        "    num_transformer_blocks=4,\n",
        "    mlp_units=[128],\n",
        "    mlp_dropout=0.4,\n",
        "    dropout=0.25,\n",
        ")\n",
        "\n",
        "model.compile(\n",
        "    loss=\"sparse_categorical_crossentropy\",\n",
        "    optimizer=keras.optimizers.Adam(learning_rate=1e-4),\n",
        "    metrics=[\"sparse_categorical_accuracy\"],\n",
        ")\n",
        "model.summary()"
      ],
      "execution_count": 35,
      "outputs": [
        {
          "output_type": "stream",
          "name": "stdout",
          "text": [
            "Model: \"model\"\n",
            "__________________________________________________________________________________________________\n",
            "Layer (type)                    Output Shape         Param #     Connected to                     \n",
            "==================================================================================================\n",
            "input_1 (InputLayer)            [(None, 700, 8)]     0                                            \n",
            "__________________________________________________________________________________________________\n",
            "layer_normalization (LayerNorma (None, 700, 8)       16          input_1[0][0]                    \n",
            "__________________________________________________________________________________________________\n",
            "multi_head_attention (MultiHead (None, 700, 8)       35848       layer_normalization[0][0]        \n",
            "                                                                 layer_normalization[0][0]        \n",
            "__________________________________________________________________________________________________\n",
            "dropout (Dropout)               (None, 700, 8)       0           multi_head_attention[0][0]       \n",
            "__________________________________________________________________________________________________\n",
            "tf.__operators__.add (TFOpLambd (None, 700, 8)       0           dropout[0][0]                    \n",
            "                                                                 input_1[0][0]                    \n",
            "__________________________________________________________________________________________________\n",
            "layer_normalization_1 (LayerNor (None, 700, 8)       16          tf.__operators__.add[0][0]       \n",
            "__________________________________________________________________________________________________\n",
            "conv1d (Conv1D)                 (None, 700, 4)       36          layer_normalization_1[0][0]      \n",
            "__________________________________________________________________________________________________\n",
            "dropout_1 (Dropout)             (None, 700, 4)       0           conv1d[0][0]                     \n",
            "__________________________________________________________________________________________________\n",
            "conv1d_1 (Conv1D)               (None, 700, 8)       40          dropout_1[0][0]                  \n",
            "__________________________________________________________________________________________________\n",
            "tf.__operators__.add_1 (TFOpLam (None, 700, 8)       0           conv1d_1[0][0]                   \n",
            "                                                                 tf.__operators__.add[0][0]       \n",
            "__________________________________________________________________________________________________\n",
            "layer_normalization_2 (LayerNor (None, 700, 8)       16          tf.__operators__.add_1[0][0]     \n",
            "__________________________________________________________________________________________________\n",
            "multi_head_attention_1 (MultiHe (None, 700, 8)       35848       layer_normalization_2[0][0]      \n",
            "                                                                 layer_normalization_2[0][0]      \n",
            "__________________________________________________________________________________________________\n",
            "dropout_2 (Dropout)             (None, 700, 8)       0           multi_head_attention_1[0][0]     \n",
            "__________________________________________________________________________________________________\n",
            "tf.__operators__.add_2 (TFOpLam (None, 700, 8)       0           dropout_2[0][0]                  \n",
            "                                                                 tf.__operators__.add_1[0][0]     \n",
            "__________________________________________________________________________________________________\n",
            "layer_normalization_3 (LayerNor (None, 700, 8)       16          tf.__operators__.add_2[0][0]     \n",
            "__________________________________________________________________________________________________\n",
            "conv1d_2 (Conv1D)               (None, 700, 4)       36          layer_normalization_3[0][0]      \n",
            "__________________________________________________________________________________________________\n",
            "dropout_3 (Dropout)             (None, 700, 4)       0           conv1d_2[0][0]                   \n",
            "__________________________________________________________________________________________________\n",
            "conv1d_3 (Conv1D)               (None, 700, 8)       40          dropout_3[0][0]                  \n",
            "__________________________________________________________________________________________________\n",
            "tf.__operators__.add_3 (TFOpLam (None, 700, 8)       0           conv1d_3[0][0]                   \n",
            "                                                                 tf.__operators__.add_2[0][0]     \n",
            "__________________________________________________________________________________________________\n",
            "layer_normalization_4 (LayerNor (None, 700, 8)       16          tf.__operators__.add_3[0][0]     \n",
            "__________________________________________________________________________________________________\n",
            "multi_head_attention_2 (MultiHe (None, 700, 8)       35848       layer_normalization_4[0][0]      \n",
            "                                                                 layer_normalization_4[0][0]      \n",
            "__________________________________________________________________________________________________\n",
            "dropout_4 (Dropout)             (None, 700, 8)       0           multi_head_attention_2[0][0]     \n",
            "__________________________________________________________________________________________________\n",
            "tf.__operators__.add_4 (TFOpLam (None, 700, 8)       0           dropout_4[0][0]                  \n",
            "                                                                 tf.__operators__.add_3[0][0]     \n",
            "__________________________________________________________________________________________________\n",
            "layer_normalization_5 (LayerNor (None, 700, 8)       16          tf.__operators__.add_4[0][0]     \n",
            "__________________________________________________________________________________________________\n",
            "conv1d_4 (Conv1D)               (None, 700, 4)       36          layer_normalization_5[0][0]      \n",
            "__________________________________________________________________________________________________\n",
            "dropout_5 (Dropout)             (None, 700, 4)       0           conv1d_4[0][0]                   \n",
            "__________________________________________________________________________________________________\n",
            "conv1d_5 (Conv1D)               (None, 700, 8)       40          dropout_5[0][0]                  \n",
            "__________________________________________________________________________________________________\n",
            "tf.__operators__.add_5 (TFOpLam (None, 700, 8)       0           conv1d_5[0][0]                   \n",
            "                                                                 tf.__operators__.add_4[0][0]     \n",
            "__________________________________________________________________________________________________\n",
            "layer_normalization_6 (LayerNor (None, 700, 8)       16          tf.__operators__.add_5[0][0]     \n",
            "__________________________________________________________________________________________________\n",
            "multi_head_attention_3 (MultiHe (None, 700, 8)       35848       layer_normalization_6[0][0]      \n",
            "                                                                 layer_normalization_6[0][0]      \n",
            "__________________________________________________________________________________________________\n",
            "dropout_6 (Dropout)             (None, 700, 8)       0           multi_head_attention_3[0][0]     \n",
            "__________________________________________________________________________________________________\n",
            "tf.__operators__.add_6 (TFOpLam (None, 700, 8)       0           dropout_6[0][0]                  \n",
            "                                                                 tf.__operators__.add_5[0][0]     \n",
            "__________________________________________________________________________________________________\n",
            "layer_normalization_7 (LayerNor (None, 700, 8)       16          tf.__operators__.add_6[0][0]     \n",
            "__________________________________________________________________________________________________\n",
            "conv1d_6 (Conv1D)               (None, 700, 4)       36          layer_normalization_7[0][0]      \n",
            "__________________________________________________________________________________________________\n",
            "dropout_7 (Dropout)             (None, 700, 4)       0           conv1d_6[0][0]                   \n",
            "__________________________________________________________________________________________________\n",
            "conv1d_7 (Conv1D)               (None, 700, 8)       40          dropout_7[0][0]                  \n",
            "__________________________________________________________________________________________________\n",
            "tf.__operators__.add_7 (TFOpLam (None, 700, 8)       0           conv1d_7[0][0]                   \n",
            "                                                                 tf.__operators__.add_6[0][0]     \n",
            "__________________________________________________________________________________________________\n",
            "global_average_pooling1d (Globa (None, 700)          0           tf.__operators__.add_7[0][0]     \n",
            "__________________________________________________________________________________________________\n",
            "dense (Dense)                   (None, 128)          89728       global_average_pooling1d[0][0]   \n",
            "__________________________________________________________________________________________________\n",
            "dropout_8 (Dropout)             (None, 128)          0           dense[0][0]                      \n",
            "__________________________________________________________________________________________________\n",
            "dense_1 (Dense)                 (None, 3)            387         dropout_8[0][0]                  \n",
            "==================================================================================================\n",
            "Total params: 233,939\n",
            "Trainable params: 233,939\n",
            "Non-trainable params: 0\n",
            "__________________________________________________________________________________________________\n",
            "Epoch 1/50\n",
            "145/145 [==============================] - 356s 2s/step - loss: 1.1701 - sparse_categorical_accuracy: 0.4530 - val_loss: 1.0060 - val_sparse_categorical_accuracy: 0.5454\n",
            "Epoch 2/50\n",
            "145/145 [==============================] - 326s 2s/step - loss: 1.0219 - sparse_categorical_accuracy: 0.5268 - val_loss: 0.9822 - val_sparse_categorical_accuracy: 0.5545\n",
            "Epoch 3/50\n",
            "145/145 [==============================] - 329s 2s/step - loss: 0.9931 - sparse_categorical_accuracy: 0.5413 - val_loss: 0.9664 - val_sparse_categorical_accuracy: 0.5694\n",
            "Epoch 4/50\n",
            "145/145 [==============================] - 329s 2s/step - loss: 0.9735 - sparse_categorical_accuracy: 0.5618 - val_loss: 0.9556 - val_sparse_categorical_accuracy: 0.5749\n",
            "Epoch 5/50\n",
            "145/145 [==============================] - 329s 2s/step - loss: 0.9512 - sparse_categorical_accuracy: 0.5766 - val_loss: 0.9232 - val_sparse_categorical_accuracy: 0.6024\n",
            "Epoch 6/50\n",
            "145/145 [==============================] - 329s 2s/step - loss: 0.9156 - sparse_categorical_accuracy: 0.6109 - val_loss: 0.8951 - val_sparse_categorical_accuracy: 0.6289\n",
            "Epoch 7/50\n",
            "145/145 [==============================] - 329s 2s/step - loss: 0.8923 - sparse_categorical_accuracy: 0.6201 - val_loss: 0.8778 - val_sparse_categorical_accuracy: 0.6362\n",
            "Epoch 8/50\n",
            "145/145 [==============================] - 329s 2s/step - loss: 0.8812 - sparse_categorical_accuracy: 0.6321 - val_loss: 0.8670 - val_sparse_categorical_accuracy: 0.6340\n",
            "Epoch 9/50\n",
            "145/145 [==============================] - 328s 2s/step - loss: 0.8670 - sparse_categorical_accuracy: 0.6385 - val_loss: 0.8583 - val_sparse_categorical_accuracy: 0.6511\n",
            "Epoch 10/50\n",
            "145/145 [==============================] - 328s 2s/step - loss: 0.8457 - sparse_categorical_accuracy: 0.6498 - val_loss: 0.8425 - val_sparse_categorical_accuracy: 0.6536\n",
            "Epoch 11/50\n",
            "145/145 [==============================] - 329s 2s/step - loss: 0.8415 - sparse_categorical_accuracy: 0.6540 - val_loss: 0.8412 - val_sparse_categorical_accuracy: 0.6501\n",
            "Epoch 12/50\n",
            "145/145 [==============================] - 329s 2s/step - loss: 0.8217 - sparse_categorical_accuracy: 0.6630 - val_loss: 0.8329 - val_sparse_categorical_accuracy: 0.6637\n",
            "Epoch 13/50\n",
            "145/145 [==============================] - 329s 2s/step - loss: 0.8132 - sparse_categorical_accuracy: 0.6645 - val_loss: 0.8496 - val_sparse_categorical_accuracy: 0.6428\n",
            "Epoch 14/50\n",
            "145/145 [==============================] - 329s 2s/step - loss: 0.8131 - sparse_categorical_accuracy: 0.6688 - val_loss: 0.8419 - val_sparse_categorical_accuracy: 0.6483\n",
            "Epoch 15/50\n",
            "145/145 [==============================] - 329s 2s/step - loss: 0.7954 - sparse_categorical_accuracy: 0.6722 - val_loss: 0.8511 - val_sparse_categorical_accuracy: 0.6440\n",
            "Epoch 16/50\n",
            "145/145 [==============================] - 329s 2s/step - loss: 0.7874 - sparse_categorical_accuracy: 0.6789 - val_loss: 0.8230 - val_sparse_categorical_accuracy: 0.6642\n",
            "Epoch 17/50\n",
            "145/145 [==============================] - 329s 2s/step - loss: 0.7792 - sparse_categorical_accuracy: 0.6835 - val_loss: 0.8047 - val_sparse_categorical_accuracy: 0.6753\n",
            "Epoch 18/50\n",
            "145/145 [==============================] - 329s 2s/step - loss: 0.7659 - sparse_categorical_accuracy: 0.6858 - val_loss: 0.8096 - val_sparse_categorical_accuracy: 0.6799\n",
            "Epoch 19/50\n",
            "145/145 [==============================] - 329s 2s/step - loss: 0.7537 - sparse_categorical_accuracy: 0.6893 - val_loss: 0.8077 - val_sparse_categorical_accuracy: 0.6821\n",
            "Epoch 20/50\n",
            "145/145 [==============================] - 329s 2s/step - loss: 0.7550 - sparse_categorical_accuracy: 0.6930 - val_loss: 0.8010 - val_sparse_categorical_accuracy: 0.6829\n",
            "Epoch 21/50\n",
            "145/145 [==============================] - 329s 2s/step - loss: 0.7507 - sparse_categorical_accuracy: 0.6942 - val_loss: 0.8170 - val_sparse_categorical_accuracy: 0.6683\n",
            "Epoch 22/50\n",
            "145/145 [==============================] - 329s 2s/step - loss: 0.7339 - sparse_categorical_accuracy: 0.6993 - val_loss: 0.8066 - val_sparse_categorical_accuracy: 0.6720\n",
            "Epoch 23/50\n",
            "145/145 [==============================] - 329s 2s/step - loss: 0.7193 - sparse_categorical_accuracy: 0.7049 - val_loss: 0.7949 - val_sparse_categorical_accuracy: 0.6758\n",
            "Epoch 24/50\n",
            "145/145 [==============================] - 330s 2s/step - loss: 0.7138 - sparse_categorical_accuracy: 0.7055 - val_loss: 0.7909 - val_sparse_categorical_accuracy: 0.6837\n",
            "Epoch 25/50\n",
            "145/145 [==============================] - 328s 2s/step - loss: 0.7044 - sparse_categorical_accuracy: 0.7068 - val_loss: 0.7988 - val_sparse_categorical_accuracy: 0.6761\n",
            "Epoch 26/50\n",
            "145/145 [==============================] - 330s 2s/step - loss: 0.6947 - sparse_categorical_accuracy: 0.7118 - val_loss: 0.8006 - val_sparse_categorical_accuracy: 0.6781\n",
            "Epoch 27/50\n",
            "145/145 [==============================] - 330s 2s/step - loss: 0.6879 - sparse_categorical_accuracy: 0.7188 - val_loss: 0.7909 - val_sparse_categorical_accuracy: 0.6831\n",
            "Epoch 28/50\n",
            "145/145 [==============================] - 330s 2s/step - loss: 0.6784 - sparse_categorical_accuracy: 0.7187 - val_loss: 0.7894 - val_sparse_categorical_accuracy: 0.6844\n",
            "Epoch 29/50\n",
            "145/145 [==============================] - 329s 2s/step - loss: 0.6702 - sparse_categorical_accuracy: 0.7247 - val_loss: 0.7918 - val_sparse_categorical_accuracy: 0.6826\n",
            "Epoch 30/50\n",
            "145/145 [==============================] - 330s 2s/step - loss: 0.6644 - sparse_categorical_accuracy: 0.7252 - val_loss: 0.7949 - val_sparse_categorical_accuracy: 0.6839\n",
            "Epoch 31/50\n",
            "145/145 [==============================] - 329s 2s/step - loss: 0.6584 - sparse_categorical_accuracy: 0.7249 - val_loss: 0.7909 - val_sparse_categorical_accuracy: 0.6814\n",
            "Epoch 32/50\n",
            "145/145 [==============================] - 329s 2s/step - loss: 0.6441 - sparse_categorical_accuracy: 0.7293 - val_loss: 0.7913 - val_sparse_categorical_accuracy: 0.6806\n",
            "Epoch 33/50\n",
            "145/145 [==============================] - 330s 2s/step - loss: 0.6360 - sparse_categorical_accuracy: 0.7363 - val_loss: 0.7937 - val_sparse_categorical_accuracy: 0.6801\n",
            "Epoch 34/50\n",
            "145/145 [==============================] - 330s 2s/step - loss: 0.6274 - sparse_categorical_accuracy: 0.7372 - val_loss: 0.7982 - val_sparse_categorical_accuracy: 0.6776\n",
            "Epoch 35/50\n",
            "145/145 [==============================] - 330s 2s/step - loss: 0.6148 - sparse_categorical_accuracy: 0.7448 - val_loss: 0.7998 - val_sparse_categorical_accuracy: 0.6801\n",
            "Epoch 36/50\n",
            "145/145 [==============================] - 330s 2s/step - loss: 0.6126 - sparse_categorical_accuracy: 0.7472 - val_loss: 0.8052 - val_sparse_categorical_accuracy: 0.6796\n",
            "Epoch 37/50\n",
            "145/145 [==============================] - 330s 2s/step - loss: 0.6004 - sparse_categorical_accuracy: 0.7472 - val_loss: 0.7990 - val_sparse_categorical_accuracy: 0.6773\n",
            "Epoch 38/50\n",
            "145/145 [==============================] - 330s 2s/step - loss: 0.5858 - sparse_categorical_accuracy: 0.7612 - val_loss: 0.8077 - val_sparse_categorical_accuracy: 0.6811\n"
          ]
        }
      ]
    },
    {
      "cell_type": "code",
      "metadata": {
        "id": "v00Ng4bpmusy"
      },
      "source": [
        "callbacks = [keras.callbacks.EarlyStopping(patience=10, restore_best_weights=True)]\n",
        "\n",
        "history = model.fit(\n",
        "    X_train,\n",
        "    y_train,\n",
        "    validation_split=0.3,\n",
        "    epochs=50,\n",
        "    batch_size=64,\n",
        "    callbacks=callbacks,\n",
        "    verbose=1,\n",
        ")"
      ],
      "execution_count": null,
      "outputs": []
    },
    {
      "cell_type": "code",
      "metadata": {
        "id": "HuZspXYfBa2O"
      },
      "source": [
        "model.save('attention.h5')"
      ],
      "execution_count": 36,
      "outputs": []
    },
    {
      "cell_type": "code",
      "metadata": {
        "id": "szznPBzKusQw"
      },
      "source": [
        "model = keras.models.load_model(\"attention.h5\")"
      ],
      "execution_count": 37,
      "outputs": []
    },
    {
      "cell_type": "code",
      "metadata": {
        "id": "9yfqBCRly7y_"
      },
      "source": [
        "import matplotlib.pyplot as plt"
      ],
      "execution_count": 38,
      "outputs": []
    },
    {
      "cell_type": "code",
      "metadata": {
        "id": "2qD7Ucdby0hb",
        "colab": {
          "base_uri": "https://localhost:8080/",
          "height": 298
        },
        "outputId": "02195309-6e55-4ca8-c5d6-614cb4a83fea"
      },
      "source": [
        "metric = \"sparse_categorical_accuracy\"\n",
        "plt.figure()\n",
        "plt.plot(history.history[metric])\n",
        "plt.plot(history.history[\"val_\" + metric])\n",
        "plt.title(\"model \" + metric)\n",
        "plt.ylabel(metric, fontsize=\"large\")\n",
        "plt.xlabel(\"epoch\", fontsize=\"large\")\n",
        "plt.legend([\"train\", \"val\"], loc=\"best\")\n",
        "plt.show()\n",
        "plt.close()"
      ],
      "execution_count": 39,
      "outputs": [
        {
          "output_type": "display_data",
          "data": {
            "image/png": "[encoded data removed]",
            "text/plain": [
              "<Figure size 432x288 with 1 Axes>"
            ]
          },
          "metadata": {
            "needs_background": "light"
          }
        }
      ]
    },
    {
      "cell_type": "markdown",
      "metadata": {
        "id": "PWS0DwuZ5mKv"
      },
      "source": [
        "# Testing Code"
      ]
    },
    {
      "cell_type": "code",
      "metadata": {
        "id": "WHBhaHwA0SGU",
        "colab": {
          "base_uri": "https://localhost:8080/"
        },
        "outputId": "511d3eaa-fe09-4b18-9d41-c00a9b5347c5"
      },
      "source": [
        "test_loss, test_acc = model.evaluate(X_test, y_test)\n",
        "\n",
        "print(\"Test accuracy\", test_acc)\n",
        "print(\"Test loss\", test_loss)"
      ],
      "execution_count": 40,
      "outputs": [
        {
          "output_type": "stream",
          "name": "stdout",
          "text": [
            "211/211 [==============================] - 70s 330ms/step - loss: 0.8401 - sparse_categorical_accuracy: 0.6678\n",
            "Test accuracy 0.6677563190460205\n",
            "Test loss 0.8401078581809998\n"
          ]
        }
      ]
    },
    {
      "cell_type": "code",
      "metadata": {
        "id": "nYyAvsm3unLM"
      },
      "source": [
        "def ptest_acc(X_test,y_test ) : \n",
        "\n",
        "    test_loss, test_acc = model.evaluate(X_test, y_test)\n",
        "\n",
        "    print(\"Test accuracy\", test_acc)\n",
        "    print(\"Test loss\", test_loss)"
      ],
      "execution_count": 41,
      "outputs": []
    },
    {
      "cell_type": "code",
      "metadata": {
        "id": "LE-LCC8RwxDX"
      },
      "source": [
        "from sklearn.metrics import confusion_matrix, classification_report"
      ],
      "execution_count": 42,
      "outputs": []
    },
    {
      "cell_type": "code",
      "metadata": {
        "id": "Rua4ExfaweXw"
      },
      "source": [
        "def confu(X,y_true) :\n",
        "\n",
        "    y_pred = np.argmax(model.predict(X), axis = 1)\n",
        "    cnm = confusion_matrix(y_true, y_pred)\n",
        "    cp = classification_report(y_true, y_pred)\n",
        "\n",
        "    print(\"confusion matrix\")\n",
        "    print(cnm)\n",
        "    print(\"classification report\")\n",
        "    print(cp)"
      ],
      "execution_count": 43,
      "outputs": []
    },
    {
      "cell_type": "code",
      "metadata": {
        "id": "PI3ZEiZ_u38f",
        "colab": {
          "base_uri": "https://localhost:8080/"
        },
        "outputId": "0e37e58c-92a0-498e-b5cd-d8a01dcc4e1f"
      },
      "source": [
        "X15, y15 = get_test_data(15)"
      ],
      "execution_count": 44,
      "outputs": [
        {
          "output_type": "stream",
          "name": "stdout",
          "text": [
            "\n",
            "file num:15 \n",
            "\n",
            "Index(['ACCX', 'ACCY', 'ACCZ', 'ECG', 'EMG', 'EDA', 'Temp', 'Resp', 'label',\n",
            "       'series_id'],\n",
            "      dtype='object')\n",
            "Data sizes are - modal count = 2233 and label count = 2233\n",
            " Modals and labels created ..\n",
            "Data Normalized with MIn MAx scaler\n",
            "Standardinging data \n"
          ]
        }
      ]
    },
    {
      "cell_type": "code",
      "metadata": {
        "id": "MJGpkYCXw8W8",
        "colab": {
          "base_uri": "https://localhost:8080/"
        },
        "outputId": "6cbc9a12-a404-4947-fe7a-881c352aa893"
      },
      "source": [
        "confu(X15,y15)"
      ],
      "execution_count": 45,
      "outputs": [
        {
          "output_type": "stream",
          "name": "stdout",
          "text": [
            "confusion matrix\n",
            "[[1085   89    1]\n",
            " [ 552  132    2]\n",
            " [ 365    5    2]]\n",
            "classification report\n",
            "              precision    recall  f1-score   support\n",
            "\n",
            "           0       0.54      0.92      0.68      1175\n",
            "           1       0.58      0.19      0.29       686\n",
            "           2       0.40      0.01      0.01       372\n",
            "\n",
            "    accuracy                           0.55      2233\n",
            "   macro avg       0.51      0.37      0.33      2233\n",
            "weighted avg       0.53      0.55      0.45      2233\n",
            "\n"
          ]
        }
      ]
    },
    {
      "cell_type": "code",
      "metadata": {
        "id": "aeIxQZrXvHS4",
        "colab": {
          "base_uri": "https://localhost:8080/"
        },
        "outputId": "d34b6a8e-fd71-485f-c2d4-04d451b34c47"
      },
      "source": [
        "X16, y16 = get_test_data(16)"
      ],
      "execution_count": 46,
      "outputs": [
        {
          "output_type": "stream",
          "name": "stdout",
          "text": [
            "\n",
            "file num:16 \n",
            "\n",
            "Index(['ACCX', 'ACCY', 'ACCZ', 'ECG', 'EMG', 'EDA', 'Temp', 'Resp', 'label',\n",
            "       'series_id'],\n",
            "      dtype='object')\n",
            "Data sizes are - modal count = 2221 and label count = 2221\n",
            " Modals and labels created ..\n",
            "Data Normalized with MIn MAx scaler\n",
            "Standardinging data \n"
          ]
        }
      ]
    },
    {
      "cell_type": "code",
      "metadata": {
        "id": "-ad51oIjxZFx",
        "colab": {
          "base_uri": "https://localhost:8080/"
        },
        "outputId": "1f66437f-d09f-4245-f8e0-ca2b39506df9"
      },
      "source": [
        "confu(X16,y16)"
      ],
      "execution_count": 47,
      "outputs": [
        {
          "output_type": "stream",
          "name": "stdout",
          "text": [
            "confusion matrix\n",
            "[[1131   45    4]\n",
            " [ 134  535    4]\n",
            " [ 346   22    0]]\n",
            "classification report\n",
            "              precision    recall  f1-score   support\n",
            "\n",
            "           0       0.70      0.96      0.81      1180\n",
            "           1       0.89      0.79      0.84       673\n",
            "           2       0.00      0.00      0.00       368\n",
            "\n",
            "    accuracy                           0.75      2221\n",
            "   macro avg       0.53      0.58      0.55      2221\n",
            "weighted avg       0.64      0.75      0.68      2221\n",
            "\n"
          ]
        }
      ]
    },
    {
      "cell_type": "code",
      "metadata": {
        "id": "YV9IopOLvSkv",
        "colab": {
          "base_uri": "https://localhost:8080/"
        },
        "outputId": "bb4058ac-a32e-4010-cbee-8c8c626fb54f"
      },
      "source": [
        "X17, y17 = get_test_data(17)"
      ],
      "execution_count": 48,
      "outputs": [
        {
          "output_type": "stream",
          "name": "stdout",
          "text": [
            "\n",
            "file num:17 \n",
            "\n",
            "Index(['ACCX', 'ACCY', 'ACCZ', 'ECG', 'EMG', 'EDA', 'Temp', 'Resp', 'label',\n",
            "       'series_id'],\n",
            "      dtype='object')\n",
            "Data sizes are - modal count = 2276 and label count = 2276\n",
            " Modals and labels created ..\n",
            "Data Normalized with MIn MAx scaler\n",
            "Standardinging data \n"
          ]
        }
      ]
    },
    {
      "cell_type": "code",
      "metadata": {
        "id": "wG244ajuy5go",
        "colab": {
          "base_uri": "https://localhost:8080/"
        },
        "outputId": "4966776b-8e16-4f3f-939f-93bd8d31ed4c"
      },
      "source": [
        "confu(X17,y17)"
      ],
      "execution_count": 49,
      "outputs": [
        {
          "output_type": "stream",
          "name": "stdout",
          "text": [
            "confusion matrix\n",
            "[[1095   80    6]\n",
            " [ 211  512    0]\n",
            " [ 307   63    2]]\n",
            "classification report\n",
            "              precision    recall  f1-score   support\n",
            "\n",
            "           0       0.68      0.93      0.78      1181\n",
            "           1       0.78      0.71      0.74       723\n",
            "           2       0.25      0.01      0.01       372\n",
            "\n",
            "    accuracy                           0.71      2276\n",
            "   macro avg       0.57      0.55      0.51      2276\n",
            "weighted avg       0.64      0.71      0.64      2276\n",
            "\n"
          ]
        }
      ]
    },
    {
      "cell_type": "code",
      "metadata": {
        "id": "qiPNT2YYzUkN",
        "colab": {
          "base_uri": "https://localhost:8080/"
        },
        "outputId": "0adb0fe5-6754-4ca9-97f3-784b8ba99897"
      },
      "source": [
        "confu(X_test, y_test)"
      ],
      "execution_count": 50,
      "outputs": [
        {
          "output_type": "stream",
          "name": "stdout",
          "text": [
            "confusion matrix\n",
            "[[3311  214   11]\n",
            " [ 897 1179    6]\n",
            " [1018   90    4]]\n",
            "classification report\n",
            "              precision    recall  f1-score   support\n",
            "\n",
            "           0       0.63      0.94      0.76      3536\n",
            "           1       0.80      0.57      0.66      2082\n",
            "           2       0.19      0.00      0.01      1112\n",
            "\n",
            "    accuracy                           0.67      6730\n",
            "   macro avg       0.54      0.50      0.47      6730\n",
            "weighted avg       0.61      0.67      0.60      6730\n",
            "\n"
          ]
        }
      ]
    }
  ]
}